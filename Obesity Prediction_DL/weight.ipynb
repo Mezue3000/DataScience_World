{
 "cells": [
  {
   "cell_type": "markdown",
   "metadata": {},
   "source": [
    "## import libraries"
   ]
  },
  {
   "cell_type": "code",
   "execution_count": 18,
   "metadata": {},
   "outputs": [],
   "source": [
    "import pandas as pd\n",
    "import numpy as np\n",
    "import plotly.express as px\n",
    "import tensorflow as tf\n",
    "from tensorflow import keras\n",
    "from tensorflow.keras import layers\n",
    "from tensorflow.keras.layers.experimental import preprocessing"
   ]
  },
  {
   "cell_type": "markdown",
   "metadata": {},
   "source": [
    "## Explore the dataset"
   ]
  },
  {
   "cell_type": "code",
   "execution_count": 19,
   "metadata": {},
   "outputs": [],
   "source": [
    "file_path = \"Obesity Classification.csv\"\n",
    "df = pd.read_csv(file_path)\n"
   ]
  },
  {
   "cell_type": "code",
   "execution_count": 20,
   "metadata": {},
   "outputs": [
    {
     "data": {
      "text/html": [
       "<div>\n",
       "<style scoped>\n",
       "    .dataframe tbody tr th:only-of-type {\n",
       "        vertical-align: middle;\n",
       "    }\n",
       "\n",
       "    .dataframe tbody tr th {\n",
       "        vertical-align: top;\n",
       "    }\n",
       "\n",
       "    .dataframe thead th {\n",
       "        text-align: right;\n",
       "    }\n",
       "</style>\n",
       "<table border=\"1\" class=\"dataframe\">\n",
       "  <thead>\n",
       "    <tr style=\"text-align: right;\">\n",
       "      <th></th>\n",
       "      <th>ID</th>\n",
       "      <th>Age</th>\n",
       "      <th>Gender</th>\n",
       "      <th>Height</th>\n",
       "      <th>Weight</th>\n",
       "      <th>BMI</th>\n",
       "      <th>Label</th>\n",
       "    </tr>\n",
       "  </thead>\n",
       "  <tbody>\n",
       "    <tr>\n",
       "      <th>0</th>\n",
       "      <td>1</td>\n",
       "      <td>25</td>\n",
       "      <td>Male</td>\n",
       "      <td>175</td>\n",
       "      <td>80</td>\n",
       "      <td>25.3</td>\n",
       "      <td>Normal Weight</td>\n",
       "    </tr>\n",
       "    <tr>\n",
       "      <th>1</th>\n",
       "      <td>2</td>\n",
       "      <td>30</td>\n",
       "      <td>Female</td>\n",
       "      <td>160</td>\n",
       "      <td>60</td>\n",
       "      <td>22.5</td>\n",
       "      <td>Normal Weight</td>\n",
       "    </tr>\n",
       "    <tr>\n",
       "      <th>2</th>\n",
       "      <td>3</td>\n",
       "      <td>35</td>\n",
       "      <td>Male</td>\n",
       "      <td>180</td>\n",
       "      <td>90</td>\n",
       "      <td>27.3</td>\n",
       "      <td>Overweight</td>\n",
       "    </tr>\n",
       "    <tr>\n",
       "      <th>3</th>\n",
       "      <td>4</td>\n",
       "      <td>40</td>\n",
       "      <td>Female</td>\n",
       "      <td>150</td>\n",
       "      <td>50</td>\n",
       "      <td>20.0</td>\n",
       "      <td>Underweight</td>\n",
       "    </tr>\n",
       "    <tr>\n",
       "      <th>4</th>\n",
       "      <td>5</td>\n",
       "      <td>45</td>\n",
       "      <td>Male</td>\n",
       "      <td>190</td>\n",
       "      <td>100</td>\n",
       "      <td>31.2</td>\n",
       "      <td>Obese</td>\n",
       "    </tr>\n",
       "  </tbody>\n",
       "</table>\n",
       "</div>"
      ],
      "text/plain": [
       "   ID  Age  Gender  Height  Weight   BMI          Label\n",
       "0   1   25    Male     175      80  25.3  Normal Weight\n",
       "1   2   30  Female     160      60  22.5  Normal Weight\n",
       "2   3   35    Male     180      90  27.3     Overweight\n",
       "3   4   40  Female     150      50  20.0    Underweight\n",
       "4   5   45    Male     190     100  31.2          Obese"
      ]
     },
     "execution_count": 20,
     "metadata": {},
     "output_type": "execute_result"
    }
   ],
   "source": [
    "df.head()"
   ]
  },
  {
   "cell_type": "code",
   "execution_count": 21,
   "metadata": {},
   "outputs": [
    {
     "name": "stdout",
     "output_type": "stream",
     "text": [
      "<class 'pandas.core.frame.DataFrame'>\n",
      "RangeIndex: 108 entries, 0 to 107\n",
      "Data columns (total 7 columns):\n",
      " #   Column  Non-Null Count  Dtype  \n",
      "---  ------  --------------  -----  \n",
      " 0   ID      108 non-null    int64  \n",
      " 1   Age     108 non-null    int64  \n",
      " 2   Gender  108 non-null    object \n",
      " 3   Height  108 non-null    int64  \n",
      " 4   Weight  108 non-null    int64  \n",
      " 5   BMI     108 non-null    float64\n",
      " 6   Label   108 non-null    object \n",
      "dtypes: float64(1), int64(4), object(2)\n",
      "memory usage: 6.0+ KB\n"
     ]
    }
   ],
   "source": [
    "df.info()"
   ]
  },
  {
   "cell_type": "markdown",
   "metadata": {},
   "source": [
    "## checkout for null_values/duplicates"
   ]
  },
  {
   "cell_type": "code",
   "execution_count": 22,
   "metadata": {},
   "outputs": [
    {
     "data": {
      "text/plain": [
       "ID        0\n",
       "Age       0\n",
       "Gender    0\n",
       "Height    0\n",
       "Weight    0\n",
       "BMI       0\n",
       "Label     0\n",
       "dtype: int64"
      ]
     },
     "execution_count": 22,
     "metadata": {},
     "output_type": "execute_result"
    }
   ],
   "source": [
    "df.isnull().sum()"
   ]
  },
  {
   "cell_type": "code",
   "execution_count": 23,
   "metadata": {},
   "outputs": [
    {
     "data": {
      "text/plain": [
       "0"
      ]
     },
     "execution_count": 23,
     "metadata": {},
     "output_type": "execute_result"
    }
   ],
   "source": [
    "df.duplicated().sum()"
   ]
  },
  {
   "cell_type": "markdown",
   "metadata": {},
   "source": [
    "## Drop Column"
   ]
  },
  {
   "cell_type": "code",
   "execution_count": 24,
   "metadata": {},
   "outputs": [],
   "source": [
    "df.drop('ID', axis=1, inplace=True)"
   ]
  },
  {
   "cell_type": "markdown",
   "metadata": {},
   "source": [
    "## Data Visualization"
   ]
  },
  {
   "cell_type": "code",
   "execution_count": 25,
   "metadata": {},
   "outputs": [
    {
     "data": {
      "text/html": [
       "<div>\n",
       "<style scoped>\n",
       "    .dataframe tbody tr th:only-of-type {\n",
       "        vertical-align: middle;\n",
       "    }\n",
       "\n",
       "    .dataframe tbody tr th {\n",
       "        vertical-align: top;\n",
       "    }\n",
       "\n",
       "    .dataframe thead th {\n",
       "        text-align: right;\n",
       "    }\n",
       "</style>\n",
       "<table border=\"1\" class=\"dataframe\">\n",
       "  <thead>\n",
       "    <tr style=\"text-align: right;\">\n",
       "      <th></th>\n",
       "      <th>Age</th>\n",
       "      <th>Gender</th>\n",
       "      <th>Height</th>\n",
       "      <th>Weight</th>\n",
       "      <th>BMI</th>\n",
       "      <th>Label</th>\n",
       "    </tr>\n",
       "  </thead>\n",
       "  <tbody>\n",
       "    <tr>\n",
       "      <th>0</th>\n",
       "      <td>25</td>\n",
       "      <td>Male</td>\n",
       "      <td>175</td>\n",
       "      <td>80</td>\n",
       "      <td>25.3</td>\n",
       "      <td>Normal Weight</td>\n",
       "    </tr>\n",
       "    <tr>\n",
       "      <th>1</th>\n",
       "      <td>30</td>\n",
       "      <td>Female</td>\n",
       "      <td>160</td>\n",
       "      <td>60</td>\n",
       "      <td>22.5</td>\n",
       "      <td>Normal Weight</td>\n",
       "    </tr>\n",
       "    <tr>\n",
       "      <th>2</th>\n",
       "      <td>35</td>\n",
       "      <td>Male</td>\n",
       "      <td>180</td>\n",
       "      <td>90</td>\n",
       "      <td>27.3</td>\n",
       "      <td>Overweight</td>\n",
       "    </tr>\n",
       "  </tbody>\n",
       "</table>\n",
       "</div>"
      ],
      "text/plain": [
       "   Age  Gender  Height  Weight   BMI          Label\n",
       "0   25    Male     175      80  25.3  Normal Weight\n",
       "1   30  Female     160      60  22.5  Normal Weight\n",
       "2   35    Male     180      90  27.3     Overweight"
      ]
     },
     "execution_count": 25,
     "metadata": {},
     "output_type": "execute_result"
    }
   ],
   "source": [
    "df1 = df.copy()\n",
    "df1.head(3)\n"
   ]
  },
  {
   "cell_type": "code",
   "execution_count": 26,
   "metadata": {},
   "outputs": [
    {
     "data": {
      "text/html": [
       "<div>\n",
       "<style scoped>\n",
       "    .dataframe tbody tr th:only-of-type {\n",
       "        vertical-align: middle;\n",
       "    }\n",
       "\n",
       "    .dataframe tbody tr th {\n",
       "        vertical-align: top;\n",
       "    }\n",
       "\n",
       "    .dataframe thead th {\n",
       "        text-align: right;\n",
       "    }\n",
       "</style>\n",
       "<table border=\"1\" class=\"dataframe\">\n",
       "  <thead>\n",
       "    <tr style=\"text-align: right;\">\n",
       "      <th></th>\n",
       "      <th>Label</th>\n",
       "      <th>Age</th>\n",
       "      <th>Weight</th>\n",
       "    </tr>\n",
       "  </thead>\n",
       "  <tbody>\n",
       "    <tr>\n",
       "      <th>96</th>\n",
       "      <td>Underweight</td>\n",
       "      <td>70</td>\n",
       "      <td>20.0</td>\n",
       "    </tr>\n",
       "    <tr>\n",
       "      <th>97</th>\n",
       "      <td>Underweight</td>\n",
       "      <td>72</td>\n",
       "      <td>45.0</td>\n",
       "    </tr>\n",
       "    <tr>\n",
       "      <th>98</th>\n",
       "      <td>Underweight</td>\n",
       "      <td>83</td>\n",
       "      <td>50.0</td>\n",
       "    </tr>\n",
       "    <tr>\n",
       "      <th>99</th>\n",
       "      <td>Underweight</td>\n",
       "      <td>93</td>\n",
       "      <td>40.0</td>\n",
       "    </tr>\n",
       "    <tr>\n",
       "      <th>100</th>\n",
       "      <td>Underweight</td>\n",
       "      <td>103</td>\n",
       "      <td>30.0</td>\n",
       "    </tr>\n",
       "  </tbody>\n",
       "</table>\n",
       "</div>"
      ],
      "text/plain": [
       "           Label  Age  Weight\n",
       "96   Underweight   70    20.0\n",
       "97   Underweight   72    45.0\n",
       "98   Underweight   83    50.0\n",
       "99   Underweight   93    40.0\n",
       "100  Underweight  103    30.0"
      ]
     },
     "execution_count": 26,
     "metadata": {},
     "output_type": "execute_result"
    }
   ],
   "source": [
    "df2 = df.groupby(['Label', 'Age'])['Weight'].mean().reset_index()\n",
    "df2.tail()"
   ]
  },
  {
   "cell_type": "code",
   "execution_count": 27,
   "metadata": {},
   "outputs": [
    {
     "data": {
      "image/png": "[encoded data removed]"
     },
     "metadata": {},
     "output_type": "display_data"
    }
   ],
   "source": [
    "fig = px.bar(df2, x='Label', y='Weight', color='Label', hover_data='Age', title='Mean distribution of human weight')\n",
    "fig.show(renderer='png')"
   ]
  },
  {
   "cell_type": "code",
   "execution_count": 28,
   "metadata": {},
   "outputs": [
    {
     "data": {
      "image/png": "[encoded data removed]"
     },
     "metadata": {},
     "output_type": "display_data"
    }
   ],
   "source": [
    "fig = px.scatter(df, x='Age', y='Weight', color='Gender', title='Age-Weight Classification By Gender')\n",
    "fig.show(renderer='png')"
   ]
  },
  {
   "cell_type": "code",
   "execution_count": 29,
   "metadata": {},
   "outputs": [
    {
     "data": {
      "text/html": [
       "<div>\n",
       "<style scoped>\n",
       "    .dataframe tbody tr th:only-of-type {\n",
       "        vertical-align: middle;\n",
       "    }\n",
       "\n",
       "    .dataframe tbody tr th {\n",
       "        vertical-align: top;\n",
       "    }\n",
       "\n",
       "    .dataframe thead th {\n",
       "        text-align: right;\n",
       "    }\n",
       "</style>\n",
       "<table border=\"1\" class=\"dataframe\">\n",
       "  <thead>\n",
       "    <tr style=\"text-align: right;\">\n",
       "      <th></th>\n",
       "      <th>Gender</th>\n",
       "      <th>count</th>\n",
       "    </tr>\n",
       "  </thead>\n",
       "  <tbody>\n",
       "    <tr>\n",
       "      <th>0</th>\n",
       "      <td>Male</td>\n",
       "      <td>56</td>\n",
       "    </tr>\n",
       "    <tr>\n",
       "      <th>1</th>\n",
       "      <td>Female</td>\n",
       "      <td>52</td>\n",
       "    </tr>\n",
       "  </tbody>\n",
       "</table>\n",
       "</div>"
      ],
      "text/plain": [
       "   Gender  count\n",
       "0    Male     56\n",
       "1  Female     52"
      ]
     },
     "execution_count": 29,
     "metadata": {},
     "output_type": "execute_result"
    }
   ],
   "source": [
    "df2 = df['Gender'].value_counts().reset_index()\n",
    "df2"
   ]
  },
  {
   "cell_type": "code",
   "execution_count": 30,
   "metadata": {},
   "outputs": [
    {
     "data": {
      "image/png": "[encoded data removed]"
     },
     "metadata": {},
     "output_type": "display_data"
    }
   ],
   "source": [
    "fig = px.pie(df2, names='Gender', values='count', hole=0.5, title='Percentage Distribution of Gender in the Dataset')\n",
    "fig.show(renderer='png')"
   ]
  },
  {
   "cell_type": "code",
   "execution_count": 31,
   "metadata": {},
   "outputs": [
    {
     "data": {
      "image/png": "[encoded data removed]"
     },
     "metadata": {},
     "output_type": "display_data"
    }
   ],
   "source": [
    "fig = px.area(df, x='Label', y='Height', hover_data='BMI', title='Height Comparison With The Labels')\n",
    "fig.show(renderer='png')"
   ]
  },
  {
   "cell_type": "code",
   "execution_count": 32,
   "metadata": {},
   "outputs": [
    {
     "data": {
      "image/png": "[encoded data removed]"
     },
     "metadata": {},
     "output_type": "display_data"
    }
   ],
   "source": [
    "fig = px.histogram(df, x='Weight', color='Gender', nbins=15, title='Histogram Showing The Weight Count')\n",
    "fig.show(renderer='png')"
   ]
  },
  {
   "cell_type": "code",
   "execution_count": 33,
   "metadata": {},
   "outputs": [
    {
     "data": {
      "text/html": [
       "<div>\n",
       "<style scoped>\n",
       "    .dataframe tbody tr th:only-of-type {\n",
       "        vertical-align: middle;\n",
       "    }\n",
       "\n",
       "    .dataframe tbody tr th {\n",
       "        vertical-align: top;\n",
       "    }\n",
       "\n",
       "    .dataframe thead th {\n",
       "        text-align: right;\n",
       "    }\n",
       "</style>\n",
       "<table border=\"1\" class=\"dataframe\">\n",
       "  <thead>\n",
       "    <tr style=\"text-align: right;\">\n",
       "      <th></th>\n",
       "      <th>Label</th>\n",
       "      <th>Age</th>\n",
       "    </tr>\n",
       "  </thead>\n",
       "  <tbody>\n",
       "    <tr>\n",
       "      <th>0</th>\n",
       "      <td>Normal Weight</td>\n",
       "      <td>92</td>\n",
       "    </tr>\n",
       "    <tr>\n",
       "      <th>1</th>\n",
       "      <td>Obese</td>\n",
       "      <td>108</td>\n",
       "    </tr>\n",
       "    <tr>\n",
       "      <th>2</th>\n",
       "      <td>Overweight</td>\n",
       "      <td>112</td>\n",
       "    </tr>\n",
       "    <tr>\n",
       "      <th>3</th>\n",
       "      <td>Underweight</td>\n",
       "      <td>103</td>\n",
       "    </tr>\n",
       "  </tbody>\n",
       "</table>\n",
       "</div>"
      ],
      "text/plain": [
       "           Label  Age\n",
       "0  Normal Weight   92\n",
       "1          Obese  108\n",
       "2     Overweight  112\n",
       "3    Underweight  103"
      ]
     },
     "execution_count": 33,
     "metadata": {},
     "output_type": "execute_result"
    }
   ],
   "source": [
    "df2 = df.groupby('Label')['Age'].max().reset_index()\n",
    "df2"
   ]
  },
  {
   "cell_type": "code",
   "execution_count": 34,
   "metadata": {},
   "outputs": [
    {
     "data": {
      "image/png": "[encoded data removed]"
     },
     "metadata": {},
     "output_type": "display_data"
    }
   ],
   "source": [
    "fig = px.box(df, x='Label', y='Age', title='Maximum, Minimum and Quartile Age Distribution By Labels ')\n",
    "fig.show(renderer='png')"
   ]
  },
  {
   "cell_type": "code",
   "execution_count": 35,
   "metadata": {},
   "outputs": [],
   "source": [
    "numeric_df = df.select_dtypes('number')\n",
    "corr_df = numeric_df.corr()"
   ]
  },
  {
   "cell_type": "code",
   "execution_count": 36,
   "metadata": {},
   "outputs": [
    {
     "data": {
      "image/png": "[encoded data removed]"
     },
     "metadata": {},
     "output_type": "display_data"
    }
   ],
   "source": [
    "fig = px.imshow(corr_df, text_auto=True, title='Heatmap Correlation of feaures in the dataset')\n",
    "fig.show(renderer='png')"
   ]
  },
  {
   "cell_type": "markdown",
   "metadata": {},
   "source": [
    "#### NB: I made use of the parameter(renderer='png'), to enable my charts display on github coz github does not surport interactive chart like plotly...to make the chart interactive you can delete the parameter \"renderer\""
   ]
  },
  {
   "cell_type": "code",
   "execution_count": 25,
   "metadata": {},
   "outputs": [
    {
     "data": {
      "text/plain": [
       "Index(['Age', 'Gender', 'Height', 'Weight', 'BMI', 'Label'], dtype='object')"
      ]
     },
     "execution_count": 25,
     "metadata": {},
     "output_type": "execute_result"
    }
   ],
   "source": [
    "df.columns"
   ]
  },
  {
   "cell_type": "markdown",
   "metadata": {},
   "source": [
    "## Convert Categorical features to numeric"
   ]
  },
  {
   "cell_type": "code",
   "execution_count": 26,
   "metadata": {},
   "outputs": [
    {
     "data": {
      "text/plain": [
       "Label\n",
       "Underweight      47\n",
       "Normal Weight    29\n",
       "Overweight       20\n",
       "Obese            12\n",
       "Name: count, dtype: int64"
      ]
     },
     "execution_count": 26,
     "metadata": {},
     "output_type": "execute_result"
    }
   ],
   "source": [
    "df['Label'].value_counts()"
   ]
  },
  {
   "cell_type": "code",
   "execution_count": 27,
   "metadata": {},
   "outputs": [
    {
     "data": {
      "text/html": [
       "<div>\n",
       "<style scoped>\n",
       "    .dataframe tbody tr th:only-of-type {\n",
       "        vertical-align: middle;\n",
       "    }\n",
       "\n",
       "    .dataframe tbody tr th {\n",
       "        vertical-align: top;\n",
       "    }\n",
       "\n",
       "    .dataframe thead th {\n",
       "        text-align: right;\n",
       "    }\n",
       "</style>\n",
       "<table border=\"1\" class=\"dataframe\">\n",
       "  <thead>\n",
       "    <tr style=\"text-align: right;\">\n",
       "      <th></th>\n",
       "      <th>Age</th>\n",
       "      <th>Gender</th>\n",
       "      <th>Height</th>\n",
       "      <th>Weight</th>\n",
       "      <th>BMI</th>\n",
       "      <th>Label</th>\n",
       "    </tr>\n",
       "  </thead>\n",
       "  <tbody>\n",
       "    <tr>\n",
       "      <th>0</th>\n",
       "      <td>25</td>\n",
       "      <td>1</td>\n",
       "      <td>175</td>\n",
       "      <td>80</td>\n",
       "      <td>25.3</td>\n",
       "      <td>0</td>\n",
       "    </tr>\n",
       "    <tr>\n",
       "      <th>1</th>\n",
       "      <td>30</td>\n",
       "      <td>0</td>\n",
       "      <td>160</td>\n",
       "      <td>60</td>\n",
       "      <td>22.5</td>\n",
       "      <td>0</td>\n",
       "    </tr>\n",
       "    <tr>\n",
       "      <th>2</th>\n",
       "      <td>35</td>\n",
       "      <td>1</td>\n",
       "      <td>180</td>\n",
       "      <td>90</td>\n",
       "      <td>27.3</td>\n",
       "      <td>2</td>\n",
       "    </tr>\n",
       "    <tr>\n",
       "      <th>3</th>\n",
       "      <td>40</td>\n",
       "      <td>0</td>\n",
       "      <td>150</td>\n",
       "      <td>50</td>\n",
       "      <td>20.0</td>\n",
       "      <td>1</td>\n",
       "    </tr>\n",
       "    <tr>\n",
       "      <th>4</th>\n",
       "      <td>45</td>\n",
       "      <td>1</td>\n",
       "      <td>190</td>\n",
       "      <td>100</td>\n",
       "      <td>31.2</td>\n",
       "      <td>3</td>\n",
       "    </tr>\n",
       "  </tbody>\n",
       "</table>\n",
       "</div>"
      ],
      "text/plain": [
       "   Age  Gender  Height  Weight   BMI  Label\n",
       "0   25       1     175      80  25.3      0\n",
       "1   30       0     160      60  22.5      0\n",
       "2   35       1     180      90  27.3      2\n",
       "3   40       0     150      50  20.0      1\n",
       "4   45       1     190     100  31.2      3"
      ]
     },
     "execution_count": 27,
     "metadata": {},
     "output_type": "execute_result"
    }
   ],
   "source": [
    "# Python Map Method\n",
    "df['Gender'] = df['Gender'].map({'Female':0, 'Male':1})\n",
    "df['Label'] = df['Label'].map({'Normal Weight':0, 'Underweight':1, 'Overweight':2, 'Obese':3})\n",
    "df.head()"
   ]
  },
  {
   "cell_type": "markdown",
   "metadata": {},
   "source": [
    "## convert floats to integer"
   ]
  },
  {
   "cell_type": "code",
   "execution_count": 28,
   "metadata": {},
   "outputs": [
    {
     "data": {
      "text/html": [
       "<div>\n",
       "<style scoped>\n",
       "    .dataframe tbody tr th:only-of-type {\n",
       "        vertical-align: middle;\n",
       "    }\n",
       "\n",
       "    .dataframe tbody tr th {\n",
       "        vertical-align: top;\n",
       "    }\n",
       "\n",
       "    .dataframe thead th {\n",
       "        text-align: right;\n",
       "    }\n",
       "</style>\n",
       "<table border=\"1\" class=\"dataframe\">\n",
       "  <thead>\n",
       "    <tr style=\"text-align: right;\">\n",
       "      <th></th>\n",
       "      <th>Age</th>\n",
       "      <th>Gender</th>\n",
       "      <th>Height</th>\n",
       "      <th>Weight</th>\n",
       "      <th>BMI</th>\n",
       "      <th>Label</th>\n",
       "    </tr>\n",
       "  </thead>\n",
       "  <tbody>\n",
       "    <tr>\n",
       "      <th>105</th>\n",
       "      <td>21</td>\n",
       "      <td>1</td>\n",
       "      <td>180</td>\n",
       "      <td>15</td>\n",
       "      <td>5</td>\n",
       "      <td>1</td>\n",
       "    </tr>\n",
       "    <tr>\n",
       "      <th>106</th>\n",
       "      <td>26</td>\n",
       "      <td>0</td>\n",
       "      <td>150</td>\n",
       "      <td>15</td>\n",
       "      <td>5</td>\n",
       "      <td>1</td>\n",
       "    </tr>\n",
       "    <tr>\n",
       "      <th>107</th>\n",
       "      <td>31</td>\n",
       "      <td>1</td>\n",
       "      <td>190</td>\n",
       "      <td>20</td>\n",
       "      <td>8</td>\n",
       "      <td>1</td>\n",
       "    </tr>\n",
       "  </tbody>\n",
       "</table>\n",
       "</div>"
      ],
      "text/plain": [
       "     Age  Gender  Height  Weight  BMI  Label\n",
       "105   21       1     180      15    5      1\n",
       "106   26       0     150      15    5      1\n",
       "107   31       1     190      20    8      1"
      ]
     },
     "execution_count": 28,
     "metadata": {},
     "output_type": "execute_result"
    }
   ],
   "source": [
    "df['BMI'] = df['BMI'].astype('int')\n",
    "df.tail(3)\n"
   ]
  },
  {
   "cell_type": "markdown",
   "metadata": {},
   "source": [
    "## Checkout for outliers"
   ]
  },
  {
   "cell_type": "code",
   "execution_count": 4,
   "metadata": {},
   "outputs": [
    {
     "data": {
      "text/html": [
       "<div>\n",
       "<style scoped>\n",
       "    .dataframe tbody tr th:only-of-type {\n",
       "        vertical-align: middle;\n",
       "    }\n",
       "\n",
       "    .dataframe tbody tr th {\n",
       "        vertical-align: top;\n",
       "    }\n",
       "\n",
       "    .dataframe thead th {\n",
       "        text-align: right;\n",
       "    }\n",
       "</style>\n",
       "<table border=\"1\" class=\"dataframe\">\n",
       "  <thead>\n",
       "    <tr style=\"text-align: right;\">\n",
       "      <th></th>\n",
       "      <th>ID</th>\n",
       "      <th>Age</th>\n",
       "      <th>Height</th>\n",
       "      <th>Weight</th>\n",
       "      <th>BMI</th>\n",
       "    </tr>\n",
       "  </thead>\n",
       "  <tbody>\n",
       "    <tr>\n",
       "      <th>count</th>\n",
       "      <td>108.000000</td>\n",
       "      <td>108.000000</td>\n",
       "      <td>108.000000</td>\n",
       "      <td>108.000000</td>\n",
       "      <td>108.000000</td>\n",
       "    </tr>\n",
       "    <tr>\n",
       "      <th>mean</th>\n",
       "      <td>56.046296</td>\n",
       "      <td>46.555556</td>\n",
       "      <td>166.574074</td>\n",
       "      <td>59.490741</td>\n",
       "      <td>20.549074</td>\n",
       "    </tr>\n",
       "    <tr>\n",
       "      <th>std</th>\n",
       "      <td>31.917939</td>\n",
       "      <td>24.720620</td>\n",
       "      <td>27.873615</td>\n",
       "      <td>28.856233</td>\n",
       "      <td>7.583818</td>\n",
       "    </tr>\n",
       "    <tr>\n",
       "      <th>min</th>\n",
       "      <td>1.000000</td>\n",
       "      <td>11.000000</td>\n",
       "      <td>120.000000</td>\n",
       "      <td>10.000000</td>\n",
       "      <td>3.900000</td>\n",
       "    </tr>\n",
       "    <tr>\n",
       "      <th>25%</th>\n",
       "      <td>28.750000</td>\n",
       "      <td>27.000000</td>\n",
       "      <td>140.000000</td>\n",
       "      <td>35.000000</td>\n",
       "      <td>16.700000</td>\n",
       "    </tr>\n",
       "    <tr>\n",
       "      <th>50%</th>\n",
       "      <td>56.500000</td>\n",
       "      <td>42.500000</td>\n",
       "      <td>175.000000</td>\n",
       "      <td>55.000000</td>\n",
       "      <td>21.200000</td>\n",
       "    </tr>\n",
       "    <tr>\n",
       "      <th>75%</th>\n",
       "      <td>83.250000</td>\n",
       "      <td>59.250000</td>\n",
       "      <td>190.000000</td>\n",
       "      <td>85.000000</td>\n",
       "      <td>26.100000</td>\n",
       "    </tr>\n",
       "    <tr>\n",
       "      <th>max</th>\n",
       "      <td>110.000000</td>\n",
       "      <td>112.000000</td>\n",
       "      <td>210.000000</td>\n",
       "      <td>120.000000</td>\n",
       "      <td>37.200000</td>\n",
       "    </tr>\n",
       "  </tbody>\n",
       "</table>\n",
       "</div>"
      ],
      "text/plain": [
       "               ID         Age      Height      Weight         BMI\n",
       "count  108.000000  108.000000  108.000000  108.000000  108.000000\n",
       "mean    56.046296   46.555556  166.574074   59.490741   20.549074\n",
       "std     31.917939   24.720620   27.873615   28.856233    7.583818\n",
       "min      1.000000   11.000000  120.000000   10.000000    3.900000\n",
       "25%     28.750000   27.000000  140.000000   35.000000   16.700000\n",
       "50%     56.500000   42.500000  175.000000   55.000000   21.200000\n",
       "75%     83.250000   59.250000  190.000000   85.000000   26.100000\n",
       "max    110.000000  112.000000  210.000000  120.000000   37.200000"
      ]
     },
     "execution_count": 4,
     "metadata": {},
     "output_type": "execute_result"
    }
   ],
   "source": [
    "df.describe()"
   ]
  },
  {
   "cell_type": "markdown",
   "metadata": {},
   "source": [
    "## Split the dataset into training/testing set and Labels"
   ]
  },
  {
   "cell_type": "code",
   "execution_count": 29,
   "metadata": {},
   "outputs": [],
   "source": [
    "train_set = df.sample(frac=0.8, random_state=0)\n",
    "test_set = df.drop(train_set.index)"
   ]
  },
  {
   "cell_type": "code",
   "execution_count": 30,
   "metadata": {},
   "outputs": [],
   "source": [
    "train_features = train_set.copy()\n",
    "test_features =test_set.copy()"
   ]
  },
  {
   "cell_type": "code",
   "execution_count": 31,
   "metadata": {},
   "outputs": [],
   "source": [
    "train_labels = train_features.pop('Label')\n",
    "test_label = test_features.pop('Label')"
   ]
  },
  {
   "cell_type": "markdown",
   "metadata": {},
   "source": [
    "## Apply Normalization"
   ]
  },
  {
   "cell_type": "code",
   "execution_count": 32,
   "metadata": {},
   "outputs": [],
   "source": [
    "feature_normalized = preprocessing.Normalization()\n",
    "feature_normalized.adapt(np.array(train_features))"
   ]
  },
  {
   "cell_type": "markdown",
   "metadata": {},
   "source": [
    "## Model using sequential model"
   ]
  },
  {
   "cell_type": "code",
   "execution_count": 33,
   "metadata": {},
   "outputs": [],
   "source": [
    "model = keras.models.Sequential([\n",
    "    feature_normalized,\n",
    "    keras.layers.Dense(128, activation='relu'),\n",
    "    keras.layers.Dense(64, activation='relu'),\n",
    "    keras.layers.Dense(4, activation='softmax')\n",
    "])"
   ]
  },
  {
   "cell_type": "markdown",
   "metadata": {},
   "source": [
    "## Print the model summary"
   ]
  },
  {
   "cell_type": "code",
   "execution_count": 34,
   "metadata": {},
   "outputs": [
    {
     "name": "stdout",
     "output_type": "stream",
     "text": [
      "Model: \"sequential\"\n",
      "_________________________________________________________________\n",
      " Layer (type)                Output Shape              Param #   \n",
      "=================================================================\n",
      " normalization (Normalizatio  (None, 5)                11        \n",
      " n)                                                              \n",
      "                                                                 \n",
      " dense (Dense)               (None, 128)               768       \n",
      "                                                                 \n",
      " dense_1 (Dense)             (None, 64)                8256      \n",
      "                                                                 \n",
      " dense_2 (Dense)             (None, 4)                 260       \n",
      "                                                                 \n",
      "=================================================================\n",
      "Total params: 9,295\n",
      "Trainable params: 9,284\n",
      "Non-trainable params: 11\n",
      "_________________________________________________________________\n"
     ]
    }
   ],
   "source": [
    "model.summary()"
   ]
  },
  {
   "cell_type": "markdown",
   "metadata": {},
   "source": [
    "## Compile the model"
   ]
  },
  {
   "cell_type": "code",
   "execution_count": 35,
   "metadata": {},
   "outputs": [],
   "source": [
    "loss = keras.losses.SparseCategoricalCrossentropy()\n",
    "optim = keras.optimizers.Adam(learning_rate=0.01)\n",
    "metric = ['accuracy']\n",
    "\n",
    "model.compile(loss=loss, optimizer=optim, metrics=metric)"
   ]
  },
  {
   "cell_type": "markdown",
   "metadata": {},
   "source": [
    "## Fit in the model for training"
   ]
  },
  {
   "cell_type": "code",
   "execution_count": 36,
   "metadata": {},
   "outputs": [
    {
     "name": "stdout",
     "output_type": "stream",
     "text": [
      "Epoch 1/200\n",
      "3/3 [==============================] - 1s 320ms/step - loss: 1.2529 - accuracy: 0.4559 - val_loss: 0.8624 - val_accuracy: 0.5556\n",
      "Epoch 2/200\n",
      "3/3 [==============================] - 0s 31ms/step - loss: 0.8057 - accuracy: 0.6912 - val_loss: 0.6680 - val_accuracy: 0.6111\n",
      "Epoch 3/200\n",
      "3/3 [==============================] - 0s 29ms/step - loss: 0.5767 - accuracy: 0.7206 - val_loss: 0.5357 - val_accuracy: 0.7222\n",
      "Epoch 4/200\n",
      "3/3 [==============================] - 0s 27ms/step - loss: 0.4833 - accuracy: 0.7353 - val_loss: 0.4879 - val_accuracy: 0.7778\n",
      "Epoch 5/200\n",
      "3/3 [==============================] - 0s 28ms/step - loss: 0.4108 - accuracy: 0.7794 - val_loss: 0.5769 - val_accuracy: 0.6111\n",
      "Epoch 6/200\n",
      "3/3 [==============================] - 0s 29ms/step - loss: 0.3849 - accuracy: 0.8382 - val_loss: 0.5997 - val_accuracy: 0.7778\n",
      "Epoch 7/200\n",
      "3/3 [==============================] - 0s 30ms/step - loss: 0.4468 - accuracy: 0.7794 - val_loss: 0.4380 - val_accuracy: 0.7778\n",
      "Epoch 8/200\n",
      "3/3 [==============================] - 0s 29ms/step - loss: 0.3792 - accuracy: 0.8382 - val_loss: 0.3529 - val_accuracy: 0.7778\n",
      "Epoch 9/200\n",
      "3/3 [==============================] - 0s 29ms/step - loss: 0.2521 - accuracy: 0.8676 - val_loss: 0.2993 - val_accuracy: 0.8333\n",
      "Epoch 10/200\n",
      "3/3 [==============================] - 0s 29ms/step - loss: 0.2329 - accuracy: 0.8971 - val_loss: 0.3035 - val_accuracy: 0.8333\n",
      "Epoch 11/200\n",
      "3/3 [==============================] - 0s 29ms/step - loss: 0.2093 - accuracy: 0.9118 - val_loss: 0.3150 - val_accuracy: 0.8333\n",
      "Epoch 12/200\n",
      "3/3 [==============================] - 0s 29ms/step - loss: 0.1872 - accuracy: 0.9412 - val_loss: 0.2905 - val_accuracy: 0.7778\n",
      "Epoch 13/200\n",
      "3/3 [==============================] - 0s 28ms/step - loss: 0.2468 - accuracy: 0.8824 - val_loss: 0.4238 - val_accuracy: 0.7778\n",
      "Epoch 14/200\n",
      "3/3 [==============================] - 0s 28ms/step - loss: 0.1629 - accuracy: 0.9559 - val_loss: 0.6603 - val_accuracy: 0.6667\n",
      "Epoch 15/200\n",
      "3/3 [==============================] - 0s 29ms/step - loss: 0.2098 - accuracy: 0.8971 - val_loss: 0.6328 - val_accuracy: 0.6667\n",
      "Epoch 16/200\n",
      "3/3 [==============================] - 0s 29ms/step - loss: 0.1736 - accuracy: 0.9265 - val_loss: 0.3682 - val_accuracy: 0.8333\n",
      "Epoch 17/200\n",
      "3/3 [==============================] - 0s 28ms/step - loss: 0.1290 - accuracy: 0.9412 - val_loss: 0.2716 - val_accuracy: 0.8333\n",
      "Epoch 18/200\n",
      "3/3 [==============================] - 0s 31ms/step - loss: 0.2244 - accuracy: 0.9118 - val_loss: 0.2943 - val_accuracy: 0.8333\n",
      "Epoch 19/200\n",
      "3/3 [==============================] - 0s 32ms/step - loss: 0.1538 - accuracy: 0.9412 - val_loss: 0.3483 - val_accuracy: 0.8333\n",
      "Epoch 20/200\n",
      "3/3 [==============================] - 0s 29ms/step - loss: 0.0872 - accuracy: 1.0000 - val_loss: 0.4710 - val_accuracy: 0.7778\n",
      "Epoch 21/200\n",
      "3/3 [==============================] - 0s 29ms/step - loss: 0.1175 - accuracy: 0.9559 - val_loss: 0.6139 - val_accuracy: 0.7222\n",
      "Epoch 22/200\n",
      "3/3 [==============================] - 0s 29ms/step - loss: 0.1487 - accuracy: 0.9412 - val_loss: 0.5667 - val_accuracy: 0.7778\n",
      "Epoch 23/200\n",
      "3/3 [==============================] - 0s 86ms/step - loss: 0.1000 - accuracy: 0.9559 - val_loss: 0.4316 - val_accuracy: 0.8333\n",
      "Epoch 24/200\n",
      "3/3 [==============================] - 0s 44ms/step - loss: 0.0601 - accuracy: 1.0000 - val_loss: 0.3547 - val_accuracy: 0.8889\n",
      "Epoch 25/200\n",
      "3/3 [==============================] - 0s 30ms/step - loss: 0.0835 - accuracy: 0.9706 - val_loss: 0.3354 - val_accuracy: 0.8889\n",
      "Epoch 26/200\n",
      "3/3 [==============================] - 0s 29ms/step - loss: 0.0759 - accuracy: 0.9853 - val_loss: 0.3482 - val_accuracy: 0.7778\n",
      "Epoch 27/200\n",
      "3/3 [==============================] - 0s 29ms/step - loss: 0.0516 - accuracy: 0.9853 - val_loss: 0.3203 - val_accuracy: 0.7778\n",
      "Epoch 28/200\n",
      "3/3 [==============================] - 0s 29ms/step - loss: 0.0422 - accuracy: 1.0000 - val_loss: 0.2805 - val_accuracy: 0.8889\n",
      "Epoch 29/200\n",
      "3/3 [==============================] - 0s 29ms/step - loss: 0.0314 - accuracy: 1.0000 - val_loss: 0.2505 - val_accuracy: 0.8889\n",
      "Epoch 30/200\n",
      "3/3 [==============================] - 0s 28ms/step - loss: 0.0287 - accuracy: 1.0000 - val_loss: 0.2221 - val_accuracy: 0.8889\n",
      "Epoch 31/200\n",
      "3/3 [==============================] - 0s 29ms/step - loss: 0.0396 - accuracy: 1.0000 - val_loss: 0.1895 - val_accuracy: 0.8889\n",
      "Epoch 32/200\n",
      "3/3 [==============================] - 0s 29ms/step - loss: 0.0667 - accuracy: 0.9559 - val_loss: 0.2324 - val_accuracy: 0.8333\n",
      "Epoch 33/200\n",
      "3/3 [==============================] - 0s 91ms/step - loss: 0.0249 - accuracy: 1.0000 - val_loss: 0.3551 - val_accuracy: 0.8333\n",
      "Epoch 34/200\n",
      "3/3 [==============================] - 0s 26ms/step - loss: 0.0680 - accuracy: 0.9853 - val_loss: 0.3885 - val_accuracy: 0.7778\n",
      "Epoch 35/200\n",
      "3/3 [==============================] - 0s 29ms/step - loss: 0.0675 - accuracy: 0.9853 - val_loss: 0.3128 - val_accuracy: 0.8333\n",
      "Epoch 36/200\n",
      "3/3 [==============================] - 0s 32ms/step - loss: 0.0307 - accuracy: 0.9853 - val_loss: 0.2186 - val_accuracy: 0.8333\n",
      "Epoch 37/200\n",
      "3/3 [==============================] - 0s 28ms/step - loss: 0.0263 - accuracy: 1.0000 - val_loss: 0.2003 - val_accuracy: 0.8333\n",
      "Epoch 38/200\n",
      "3/3 [==============================] - 0s 29ms/step - loss: 0.0374 - accuracy: 0.9853 - val_loss: 0.2713 - val_accuracy: 0.8333\n",
      "Epoch 39/200\n",
      "3/3 [==============================] - 0s 28ms/step - loss: 0.0298 - accuracy: 1.0000 - val_loss: 0.2360 - val_accuracy: 0.8889\n",
      "Epoch 40/200\n",
      "3/3 [==============================] - 0s 29ms/step - loss: 0.0157 - accuracy: 1.0000 - val_loss: 0.1488 - val_accuracy: 0.9444\n",
      "Epoch 41/200\n",
      "3/3 [==============================] - 0s 28ms/step - loss: 0.0955 - accuracy: 0.9559 - val_loss: 0.2168 - val_accuracy: 0.8333\n",
      "Epoch 42/200\n",
      "3/3 [==============================] - 0s 29ms/step - loss: 0.0174 - accuracy: 1.0000 - val_loss: 1.0461 - val_accuracy: 0.6111\n",
      "Epoch 43/200\n",
      "3/3 [==============================] - 0s 28ms/step - loss: 0.3706 - accuracy: 0.9118 - val_loss: 1.4803 - val_accuracy: 0.6111\n",
      "Epoch 44/200\n",
      "3/3 [==============================] - 0s 29ms/step - loss: 0.4096 - accuracy: 0.9265 - val_loss: 1.0602 - val_accuracy: 0.6667\n",
      "Epoch 45/200\n",
      "3/3 [==============================] - 0s 29ms/step - loss: 0.3608 - accuracy: 0.9265 - val_loss: 0.5394 - val_accuracy: 0.7222\n",
      "Epoch 46/200\n",
      "3/3 [==============================] - 0s 29ms/step - loss: 0.1796 - accuracy: 0.9559 - val_loss: 0.2994 - val_accuracy: 0.8889\n",
      "Epoch 47/200\n",
      "3/3 [==============================] - 0s 28ms/step - loss: 0.0765 - accuracy: 0.9706 - val_loss: 0.2817 - val_accuracy: 0.8889\n",
      "Epoch 48/200\n",
      "3/3 [==============================] - 0s 30ms/step - loss: 0.0549 - accuracy: 1.0000 - val_loss: 0.2663 - val_accuracy: 0.8889\n",
      "Epoch 49/200\n",
      "3/3 [==============================] - 0s 29ms/step - loss: 0.0744 - accuracy: 0.9706 - val_loss: 0.2267 - val_accuracy: 0.8889\n",
      "Epoch 50/200\n",
      "3/3 [==============================] - 0s 29ms/step - loss: 0.0782 - accuracy: 0.9412 - val_loss: 0.2181 - val_accuracy: 0.8889\n",
      "Epoch 51/200\n",
      "3/3 [==============================] - 0s 29ms/step - loss: 0.0649 - accuracy: 0.9706 - val_loss: 0.2203 - val_accuracy: 0.8333\n",
      "Epoch 52/200\n",
      "3/3 [==============================] - 0s 29ms/step - loss: 0.0370 - accuracy: 1.0000 - val_loss: 0.1983 - val_accuracy: 0.8333\n",
      "Epoch 53/200\n",
      "3/3 [==============================] - 0s 29ms/step - loss: 0.0346 - accuracy: 1.0000 - val_loss: 0.1719 - val_accuracy: 0.8333\n",
      "Epoch 54/200\n",
      "3/3 [==============================] - 0s 28ms/step - loss: 0.0520 - accuracy: 0.9706 - val_loss: 0.1870 - val_accuracy: 0.8333\n",
      "Epoch 55/200\n",
      "3/3 [==============================] - 0s 28ms/step - loss: 0.0334 - accuracy: 0.9853 - val_loss: 0.2639 - val_accuracy: 0.8333\n",
      "Epoch 56/200\n",
      "3/3 [==============================] - 0s 28ms/step - loss: 0.0304 - accuracy: 0.9853 - val_loss: 0.3079 - val_accuracy: 0.7778\n",
      "Epoch 57/200\n",
      "3/3 [==============================] - 0s 29ms/step - loss: 0.0340 - accuracy: 0.9853 - val_loss: 0.2434 - val_accuracy: 0.7778\n",
      "Epoch 58/200\n",
      "3/3 [==============================] - 0s 29ms/step - loss: 0.0199 - accuracy: 1.0000 - val_loss: 0.1441 - val_accuracy: 0.9444\n",
      "Epoch 59/200\n",
      "3/3 [==============================] - 0s 29ms/step - loss: 0.0099 - accuracy: 1.0000 - val_loss: 0.0939 - val_accuracy: 1.0000\n",
      "Epoch 60/200\n",
      "3/3 [==============================] - 0s 29ms/step - loss: 0.0117 - accuracy: 1.0000 - val_loss: 0.0751 - val_accuracy: 1.0000\n",
      "Epoch 61/200\n",
      "3/3 [==============================] - 0s 28ms/step - loss: 0.0103 - accuracy: 1.0000 - val_loss: 0.0694 - val_accuracy: 1.0000\n",
      "Epoch 62/200\n",
      "3/3 [==============================] - 0s 28ms/step - loss: 0.0076 - accuracy: 1.0000 - val_loss: 0.0713 - val_accuracy: 1.0000\n",
      "Epoch 63/200\n",
      "3/3 [==============================] - 0s 28ms/step - loss: 0.0079 - accuracy: 1.0000 - val_loss: 0.0725 - val_accuracy: 1.0000\n",
      "Epoch 64/200\n",
      "3/3 [==============================] - 0s 28ms/step - loss: 0.0086 - accuracy: 1.0000 - val_loss: 0.0677 - val_accuracy: 1.0000\n",
      "Epoch 65/200\n",
      "3/3 [==============================] - 0s 29ms/step - loss: 0.0081 - accuracy: 1.0000 - val_loss: 0.0601 - val_accuracy: 1.0000\n",
      "Epoch 66/200\n",
      "3/3 [==============================] - 0s 28ms/step - loss: 0.0068 - accuracy: 1.0000 - val_loss: 0.0581 - val_accuracy: 1.0000\n",
      "Epoch 67/200\n",
      "3/3 [==============================] - 0s 28ms/step - loss: 0.0065 - accuracy: 1.0000 - val_loss: 0.0607 - val_accuracy: 1.0000\n",
      "Epoch 68/200\n",
      "3/3 [==============================] - 0s 28ms/step - loss: 0.0061 - accuracy: 1.0000 - val_loss: 0.0772 - val_accuracy: 1.0000\n",
      "Epoch 69/200\n",
      "3/3 [==============================] - 0s 29ms/step - loss: 0.0060 - accuracy: 1.0000 - val_loss: 0.0910 - val_accuracy: 1.0000\n",
      "Epoch 70/200\n",
      "3/3 [==============================] - 0s 29ms/step - loss: 0.0075 - accuracy: 1.0000 - val_loss: 0.1100 - val_accuracy: 0.9444\n",
      "Epoch 71/200\n",
      "3/3 [==============================] - 0s 29ms/step - loss: 0.0106 - accuracy: 1.0000 - val_loss: 0.2098 - val_accuracy: 0.8333\n",
      "Epoch 72/200\n",
      "3/3 [==============================] - 0s 29ms/step - loss: 0.0445 - accuracy: 0.9706 - val_loss: 0.1471 - val_accuracy: 0.8889\n",
      "Epoch 73/200\n",
      "3/3 [==============================] - 0s 28ms/step - loss: 0.0123 - accuracy: 1.0000 - val_loss: 0.0703 - val_accuracy: 1.0000\n",
      "Epoch 74/200\n",
      "3/3 [==============================] - 0s 28ms/step - loss: 0.0152 - accuracy: 1.0000 - val_loss: 0.0570 - val_accuracy: 1.0000\n",
      "Epoch 75/200\n",
      "3/3 [==============================] - 0s 29ms/step - loss: 0.0400 - accuracy: 0.9853 - val_loss: 0.0695 - val_accuracy: 1.0000\n",
      "Epoch 76/200\n",
      "3/3 [==============================] - 0s 29ms/step - loss: 0.0036 - accuracy: 1.0000 - val_loss: 0.0999 - val_accuracy: 0.9444\n",
      "Epoch 77/200\n",
      "3/3 [==============================] - 0s 28ms/step - loss: 0.0108 - accuracy: 1.0000 - val_loss: 0.1366 - val_accuracy: 0.9444\n",
      "Epoch 78/200\n",
      "3/3 [==============================] - 0s 52ms/step - loss: 0.0191 - accuracy: 0.9853 - val_loss: 0.1012 - val_accuracy: 1.0000\n",
      "Epoch 79/200\n",
      "3/3 [==============================] - 0s 31ms/step - loss: 0.0070 - accuracy: 1.0000 - val_loss: 0.0734 - val_accuracy: 1.0000\n",
      "Epoch 80/200\n",
      "3/3 [==============================] - 0s 29ms/step - loss: 0.0034 - accuracy: 1.0000 - val_loss: 0.0585 - val_accuracy: 1.0000\n",
      "Epoch 81/200\n",
      "3/3 [==============================] - 0s 29ms/step - loss: 0.0055 - accuracy: 1.0000 - val_loss: 0.0539 - val_accuracy: 1.0000\n",
      "Epoch 82/200\n",
      "3/3 [==============================] - 0s 28ms/step - loss: 0.0071 - accuracy: 1.0000 - val_loss: 0.0710 - val_accuracy: 1.0000\n",
      "Epoch 83/200\n",
      "3/3 [==============================] - 0s 29ms/step - loss: 0.0104 - accuracy: 1.0000 - val_loss: 0.1601 - val_accuracy: 0.8889\n",
      "Epoch 84/200\n",
      "3/3 [==============================] - 0s 28ms/step - loss: 0.0578 - accuracy: 0.9853 - val_loss: 0.1406 - val_accuracy: 0.8889\n",
      "Epoch 85/200\n",
      "3/3 [==============================] - 0s 29ms/step - loss: 0.0281 - accuracy: 0.9853 - val_loss: 0.0497 - val_accuracy: 1.0000\n",
      "Epoch 86/200\n",
      "3/3 [==============================] - 0s 29ms/step - loss: 0.0845 - accuracy: 0.9853 - val_loss: 0.0200 - val_accuracy: 1.0000\n",
      "Epoch 87/200\n",
      "3/3 [==============================] - 0s 30ms/step - loss: 0.5920 - accuracy: 0.8971 - val_loss: 0.0540 - val_accuracy: 1.0000\n",
      "Epoch 88/200\n",
      "3/3 [==============================] - 0s 29ms/step - loss: 0.1202 - accuracy: 0.9706 - val_loss: 0.2577 - val_accuracy: 0.8333\n",
      "Epoch 89/200\n",
      "3/3 [==============================] - 0s 29ms/step - loss: 0.0139 - accuracy: 1.0000 - val_loss: 0.8017 - val_accuracy: 0.6667\n",
      "Epoch 90/200\n",
      "3/3 [==============================] - 0s 29ms/step - loss: 0.1775 - accuracy: 0.9265 - val_loss: 0.7586 - val_accuracy: 0.6667\n",
      "Epoch 91/200\n",
      "3/3 [==============================] - 0s 29ms/step - loss: 0.1372 - accuracy: 0.9412 - val_loss: 0.3232 - val_accuracy: 0.8333\n",
      "Epoch 92/200\n",
      "3/3 [==============================] - 0s 29ms/step - loss: 0.0265 - accuracy: 0.9853 - val_loss: 0.1246 - val_accuracy: 0.8889\n",
      "Epoch 93/200\n",
      "3/3 [==============================] - 0s 29ms/step - loss: 0.0875 - accuracy: 0.9559 - val_loss: 0.1095 - val_accuracy: 0.9444\n",
      "Epoch 94/200\n",
      "3/3 [==============================] - 0s 28ms/step - loss: 0.1779 - accuracy: 0.9118 - val_loss: 0.1436 - val_accuracy: 0.9444\n",
      "Epoch 95/200\n",
      "3/3 [==============================] - 0s 29ms/step - loss: 0.0879 - accuracy: 0.9706 - val_loss: 0.2291 - val_accuracy: 0.7778\n",
      "Epoch 96/200\n",
      "3/3 [==============================] - 0s 28ms/step - loss: 0.0285 - accuracy: 1.0000 - val_loss: 0.3834 - val_accuracy: 0.7222\n",
      "Epoch 97/200\n",
      "3/3 [==============================] - 0s 28ms/step - loss: 0.0472 - accuracy: 0.9853 - val_loss: 0.4913 - val_accuracy: 0.6111\n",
      "Epoch 98/200\n",
      "3/3 [==============================] - 0s 29ms/step - loss: 0.0832 - accuracy: 0.9559 - val_loss: 0.3509 - val_accuracy: 0.7778\n",
      "Epoch 99/200\n",
      "3/3 [==============================] - 0s 29ms/step - loss: 0.0513 - accuracy: 0.9706 - val_loss: 0.1022 - val_accuracy: 0.9444\n",
      "Epoch 100/200\n",
      "3/3 [==============================] - 0s 28ms/step - loss: 0.0435 - accuracy: 0.9853 - val_loss: 0.0594 - val_accuracy: 1.0000\n",
      "Epoch 101/200\n",
      "3/3 [==============================] - 0s 29ms/step - loss: 0.0857 - accuracy: 0.9853 - val_loss: 0.0564 - val_accuracy: 1.0000\n",
      "Epoch 102/200\n",
      "3/3 [==============================] - 0s 28ms/step - loss: 0.0582 - accuracy: 0.9853 - val_loss: 0.0718 - val_accuracy: 1.0000\n",
      "Epoch 103/200\n",
      "3/3 [==============================] - 0s 27ms/step - loss: 0.0205 - accuracy: 1.0000 - val_loss: 0.1195 - val_accuracy: 0.9444\n",
      "Epoch 104/200\n",
      "3/3 [==============================] - 0s 29ms/step - loss: 0.0137 - accuracy: 1.0000 - val_loss: 0.1852 - val_accuracy: 0.9444\n",
      "Epoch 105/200\n",
      "3/3 [==============================] - 0s 29ms/step - loss: 0.0201 - accuracy: 1.0000 - val_loss: 0.2172 - val_accuracy: 0.9444\n",
      "Epoch 106/200\n",
      "3/3 [==============================] - 0s 29ms/step - loss: 0.0245 - accuracy: 1.0000 - val_loss: 0.1923 - val_accuracy: 0.9444\n",
      "Epoch 107/200\n",
      "3/3 [==============================] - 0s 30ms/step - loss: 0.0162 - accuracy: 1.0000 - val_loss: 0.1260 - val_accuracy: 0.9444\n",
      "Epoch 108/200\n",
      "3/3 [==============================] - 0s 28ms/step - loss: 0.0081 - accuracy: 1.0000 - val_loss: 0.0735 - val_accuracy: 1.0000\n",
      "Epoch 109/200\n",
      "3/3 [==============================] - 0s 29ms/step - loss: 0.0083 - accuracy: 1.0000 - val_loss: 0.0514 - val_accuracy: 1.0000\n",
      "Epoch 110/200\n",
      "3/3 [==============================] - 0s 28ms/step - loss: 0.0080 - accuracy: 1.0000 - val_loss: 0.0503 - val_accuracy: 1.0000\n",
      "Epoch 111/200\n",
      "3/3 [==============================] - 0s 28ms/step - loss: 0.0045 - accuracy: 1.0000 - val_loss: 0.0608 - val_accuracy: 1.0000\n",
      "Epoch 112/200\n",
      "3/3 [==============================] - 0s 28ms/step - loss: 0.0038 - accuracy: 1.0000 - val_loss: 0.0814 - val_accuracy: 1.0000\n",
      "Epoch 113/200\n",
      "3/3 [==============================] - 0s 29ms/step - loss: 0.0094 - accuracy: 1.0000 - val_loss: 0.0927 - val_accuracy: 1.0000\n",
      "Epoch 114/200\n",
      "3/3 [==============================] - 0s 28ms/step - loss: 0.0112 - accuracy: 1.0000 - val_loss: 0.0860 - val_accuracy: 1.0000\n",
      "Epoch 115/200\n",
      "3/3 [==============================] - 0s 28ms/step - loss: 0.0085 - accuracy: 1.0000 - val_loss: 0.0720 - val_accuracy: 1.0000\n",
      "Epoch 116/200\n",
      "3/3 [==============================] - 0s 28ms/step - loss: 0.0040 - accuracy: 1.0000 - val_loss: 0.0621 - val_accuracy: 1.0000\n",
      "Epoch 117/200\n",
      "3/3 [==============================] - 0s 28ms/step - loss: 0.0036 - accuracy: 1.0000 - val_loss: 0.0542 - val_accuracy: 1.0000\n",
      "Epoch 118/200\n",
      "3/3 [==============================] - 0s 28ms/step - loss: 0.0045 - accuracy: 1.0000 - val_loss: 0.0516 - val_accuracy: 1.0000\n",
      "Epoch 119/200\n",
      "3/3 [==============================] - 0s 27ms/step - loss: 0.0058 - accuracy: 1.0000 - val_loss: 0.0524 - val_accuracy: 1.0000\n",
      "Epoch 120/200\n",
      "3/3 [==============================] - 0s 28ms/step - loss: 0.0050 - accuracy: 1.0000 - val_loss: 0.0563 - val_accuracy: 1.0000\n",
      "Epoch 121/200\n",
      "3/3 [==============================] - 0s 29ms/step - loss: 0.0035 - accuracy: 1.0000 - val_loss: 0.0618 - val_accuracy: 1.0000\n",
      "Epoch 122/200\n",
      "3/3 [==============================] - 0s 28ms/step - loss: 0.0027 - accuracy: 1.0000 - val_loss: 0.0685 - val_accuracy: 1.0000\n",
      "Epoch 123/200\n",
      "3/3 [==============================] - 0s 28ms/step - loss: 0.0024 - accuracy: 1.0000 - val_loss: 0.0760 - val_accuracy: 1.0000\n",
      "Epoch 124/200\n",
      "3/3 [==============================] - 0s 29ms/step - loss: 0.0025 - accuracy: 1.0000 - val_loss: 0.0785 - val_accuracy: 1.0000\n",
      "Epoch 125/200\n",
      "3/3 [==============================] - 0s 29ms/step - loss: 0.0024 - accuracy: 1.0000 - val_loss: 0.0751 - val_accuracy: 1.0000\n",
      "Epoch 126/200\n",
      "3/3 [==============================] - 0s 27ms/step - loss: 0.0022 - accuracy: 1.0000 - val_loss: 0.0727 - val_accuracy: 1.0000\n",
      "Epoch 127/200\n",
      "3/3 [==============================] - 0s 30ms/step - loss: 0.0022 - accuracy: 1.0000 - val_loss: 0.0694 - val_accuracy: 1.0000\n",
      "Epoch 128/200\n",
      "3/3 [==============================] - 0s 29ms/step - loss: 0.0022 - accuracy: 1.0000 - val_loss: 0.0650 - val_accuracy: 1.0000\n",
      "Epoch 129/200\n",
      "3/3 [==============================] - 0s 28ms/step - loss: 0.0022 - accuracy: 1.0000 - val_loss: 0.0626 - val_accuracy: 1.0000\n",
      "Epoch 130/200\n",
      "3/3 [==============================] - 0s 29ms/step - loss: 0.0023 - accuracy: 1.0000 - val_loss: 0.0617 - val_accuracy: 1.0000\n",
      "Epoch 131/200\n",
      "3/3 [==============================] - 0s 29ms/step - loss: 0.0021 - accuracy: 1.0000 - val_loss: 0.0610 - val_accuracy: 1.0000\n",
      "Epoch 132/200\n",
      "3/3 [==============================] - 0s 28ms/step - loss: 0.0020 - accuracy: 1.0000 - val_loss: 0.0593 - val_accuracy: 1.0000\n",
      "Epoch 133/200\n",
      "3/3 [==============================] - 0s 29ms/step - loss: 0.0019 - accuracy: 1.0000 - val_loss: 0.0589 - val_accuracy: 1.0000\n",
      "Epoch 134/200\n",
      "3/3 [==============================] - 0s 28ms/step - loss: 0.0018 - accuracy: 1.0000 - val_loss: 0.0566 - val_accuracy: 1.0000\n",
      "Epoch 135/200\n",
      "3/3 [==============================] - 0s 29ms/step - loss: 0.0017 - accuracy: 1.0000 - val_loss: 0.0529 - val_accuracy: 1.0000\n",
      "Epoch 136/200\n",
      "3/3 [==============================] - 0s 28ms/step - loss: 0.0017 - accuracy: 1.0000 - val_loss: 0.0504 - val_accuracy: 1.0000\n",
      "Epoch 137/200\n",
      "3/3 [==============================] - 0s 52ms/step - loss: 0.0017 - accuracy: 1.0000 - val_loss: 0.0484 - val_accuracy: 1.0000\n",
      "Epoch 138/200\n",
      "3/3 [==============================] - 0s 31ms/step - loss: 0.0017 - accuracy: 1.0000 - val_loss: 0.0457 - val_accuracy: 1.0000\n",
      "Epoch 139/200\n",
      "3/3 [==============================] - 0s 28ms/step - loss: 0.0017 - accuracy: 1.0000 - val_loss: 0.0434 - val_accuracy: 1.0000\n",
      "Epoch 140/200\n",
      "3/3 [==============================] - 0s 29ms/step - loss: 0.0017 - accuracy: 1.0000 - val_loss: 0.0435 - val_accuracy: 1.0000\n",
      "Epoch 141/200\n",
      "3/3 [==============================] - 0s 29ms/step - loss: 0.0016 - accuracy: 1.0000 - val_loss: 0.0463 - val_accuracy: 1.0000\n",
      "Epoch 142/200\n",
      "3/3 [==============================] - 0s 28ms/step - loss: 0.0016 - accuracy: 1.0000 - val_loss: 0.0480 - val_accuracy: 1.0000\n",
      "Epoch 143/200\n",
      "3/3 [==============================] - 0s 29ms/step - loss: 0.0016 - accuracy: 1.0000 - val_loss: 0.0465 - val_accuracy: 1.0000\n",
      "Epoch 144/200\n",
      "3/3 [==============================] - 0s 28ms/step - loss: 0.0015 - accuracy: 1.0000 - val_loss: 0.0441 - val_accuracy: 1.0000\n",
      "Epoch 145/200\n",
      "3/3 [==============================] - 0s 28ms/step - loss: 0.0014 - accuracy: 1.0000 - val_loss: 0.0425 - val_accuracy: 1.0000\n",
      "Epoch 146/200\n",
      "3/3 [==============================] - 0s 28ms/step - loss: 0.0014 - accuracy: 1.0000 - val_loss: 0.0408 - val_accuracy: 1.0000\n",
      "Epoch 147/200\n",
      "3/3 [==============================] - 0s 29ms/step - loss: 0.0014 - accuracy: 1.0000 - val_loss: 0.0393 - val_accuracy: 1.0000\n",
      "Epoch 148/200\n",
      "3/3 [==============================] - 0s 28ms/step - loss: 0.0015 - accuracy: 1.0000 - val_loss: 0.0387 - val_accuracy: 1.0000\n",
      "Epoch 149/200\n",
      "3/3 [==============================] - 0s 29ms/step - loss: 0.0015 - accuracy: 1.0000 - val_loss: 0.0382 - val_accuracy: 1.0000\n",
      "Epoch 150/200\n",
      "3/3 [==============================] - 0s 28ms/step - loss: 0.0015 - accuracy: 1.0000 - val_loss: 0.0375 - val_accuracy: 1.0000\n",
      "Epoch 151/200\n",
      "3/3 [==============================] - 0s 28ms/step - loss: 0.0014 - accuracy: 1.0000 - val_loss: 0.0367 - val_accuracy: 1.0000\n",
      "Epoch 152/200\n",
      "3/3 [==============================] - 0s 29ms/step - loss: 0.0014 - accuracy: 1.0000 - val_loss: 0.0373 - val_accuracy: 1.0000\n",
      "Epoch 153/200\n",
      "3/3 [==============================] - 0s 50ms/step - loss: 0.0013 - accuracy: 1.0000 - val_loss: 0.0395 - val_accuracy: 1.0000\n",
      "Epoch 154/200\n",
      "3/3 [==============================] - 0s 29ms/step - loss: 0.0012 - accuracy: 1.0000 - val_loss: 0.0438 - val_accuracy: 1.0000\n",
      "Epoch 155/200\n",
      "3/3 [==============================] - 0s 28ms/step - loss: 0.0012 - accuracy: 1.0000 - val_loss: 0.0486 - val_accuracy: 1.0000\n",
      "Epoch 156/200\n",
      "3/3 [==============================] - 0s 29ms/step - loss: 0.0015 - accuracy: 1.0000 - val_loss: 0.0509 - val_accuracy: 1.0000\n",
      "Epoch 157/200\n",
      "3/3 [==============================] - 0s 29ms/step - loss: 0.0015 - accuracy: 1.0000 - val_loss: 0.0496 - val_accuracy: 1.0000\n",
      "Epoch 158/200\n",
      "3/3 [==============================] - 0s 29ms/step - loss: 0.0015 - accuracy: 1.0000 - val_loss: 0.0471 - val_accuracy: 1.0000\n",
      "Epoch 159/200\n",
      "3/3 [==============================] - 0s 29ms/step - loss: 0.0013 - accuracy: 1.0000 - val_loss: 0.0444 - val_accuracy: 1.0000\n",
      "Epoch 160/200\n",
      "3/3 [==============================] - 0s 28ms/step - loss: 0.0012 - accuracy: 1.0000 - val_loss: 0.0409 - val_accuracy: 1.0000\n",
      "Epoch 161/200\n",
      "3/3 [==============================] - 0s 29ms/step - loss: 0.0011 - accuracy: 1.0000 - val_loss: 0.0365 - val_accuracy: 1.0000\n",
      "Epoch 162/200\n",
      "3/3 [==============================] - 0s 30ms/step - loss: 0.0013 - accuracy: 1.0000 - val_loss: 0.0344 - val_accuracy: 1.0000\n",
      "Epoch 163/200\n",
      "3/3 [==============================] - 0s 28ms/step - loss: 0.0014 - accuracy: 1.0000 - val_loss: 0.0346 - val_accuracy: 1.0000\n",
      "Epoch 164/200\n",
      "3/3 [==============================] - 0s 30ms/step - loss: 0.0014 - accuracy: 1.0000 - val_loss: 0.0365 - val_accuracy: 1.0000\n",
      "Epoch 165/200\n",
      "3/3 [==============================] - 0s 28ms/step - loss: 0.0012 - accuracy: 1.0000 - val_loss: 0.0407 - val_accuracy: 1.0000\n",
      "Epoch 166/200\n",
      "3/3 [==============================] - 0s 28ms/step - loss: 0.0011 - accuracy: 1.0000 - val_loss: 0.0461 - val_accuracy: 1.0000\n",
      "Epoch 167/200\n",
      "3/3 [==============================] - 0s 28ms/step - loss: 0.0011 - accuracy: 1.0000 - val_loss: 0.0509 - val_accuracy: 1.0000\n",
      "Epoch 168/200\n",
      "3/3 [==============================] - 0s 27ms/step - loss: 0.0011 - accuracy: 1.0000 - val_loss: 0.0536 - val_accuracy: 1.0000\n",
      "Epoch 169/200\n",
      "3/3 [==============================] - 0s 28ms/step - loss: 0.0011 - accuracy: 1.0000 - val_loss: 0.0545 - val_accuracy: 1.0000\n",
      "Epoch 170/200\n",
      "3/3 [==============================] - 0s 28ms/step - loss: 0.0012 - accuracy: 1.0000 - val_loss: 0.0539 - val_accuracy: 1.0000\n",
      "Epoch 171/200\n",
      "3/3 [==============================] - 0s 28ms/step - loss: 0.0011 - accuracy: 1.0000 - val_loss: 0.0518 - val_accuracy: 1.0000\n",
      "Epoch 172/200\n",
      "3/3 [==============================] - 0s 28ms/step - loss: 0.0011 - accuracy: 1.0000 - val_loss: 0.0488 - val_accuracy: 1.0000\n",
      "Epoch 173/200\n",
      "3/3 [==============================] - 0s 27ms/step - loss: 0.0010 - accuracy: 1.0000 - val_loss: 0.0443 - val_accuracy: 1.0000\n",
      "Epoch 174/200\n",
      "3/3 [==============================] - 0s 27ms/step - loss: 9.6199e-04 - accuracy: 1.0000 - val_loss: 0.0396 - val_accuracy: 1.0000\n",
      "Epoch 175/200\n",
      "3/3 [==============================] - 0s 27ms/step - loss: 0.0011 - accuracy: 1.0000 - val_loss: 0.0368 - val_accuracy: 1.0000\n",
      "Epoch 176/200\n",
      "3/3 [==============================] - 0s 28ms/step - loss: 0.0011 - accuracy: 1.0000 - val_loss: 0.0354 - val_accuracy: 1.0000\n",
      "Epoch 177/200\n",
      "3/3 [==============================] - 0s 28ms/step - loss: 0.0011 - accuracy: 1.0000 - val_loss: 0.0349 - val_accuracy: 1.0000\n",
      "Epoch 178/200\n",
      "3/3 [==============================] - 0s 28ms/step - loss: 0.0011 - accuracy: 1.0000 - val_loss: 0.0359 - val_accuracy: 1.0000\n",
      "Epoch 179/200\n",
      "3/3 [==============================] - 0s 28ms/step - loss: 0.0010 - accuracy: 1.0000 - val_loss: 0.0368 - val_accuracy: 1.0000\n",
      "Epoch 180/200\n",
      "3/3 [==============================] - 0s 28ms/step - loss: 9.7246e-04 - accuracy: 1.0000 - val_loss: 0.0369 - val_accuracy: 1.0000\n",
      "Epoch 181/200\n",
      "3/3 [==============================] - 0s 27ms/step - loss: 9.3567e-04 - accuracy: 1.0000 - val_loss: 0.0387 - val_accuracy: 1.0000\n",
      "Epoch 182/200\n",
      "3/3 [==============================] - 0s 116ms/step - loss: 9.0579e-04 - accuracy: 1.0000 - val_loss: 0.0434 - val_accuracy: 1.0000\n",
      "Epoch 183/200\n",
      "3/3 [==============================] - 0s 43ms/step - loss: 9.2369e-04 - accuracy: 1.0000 - val_loss: 0.0471 - val_accuracy: 1.0000\n",
      "Epoch 184/200\n",
      "3/3 [==============================] - 0s 45ms/step - loss: 0.0011 - accuracy: 1.0000 - val_loss: 0.0505 - val_accuracy: 1.0000\n",
      "Epoch 185/200\n",
      "3/3 [==============================] - 0s 43ms/step - loss: 0.0012 - accuracy: 1.0000 - val_loss: 0.0512 - val_accuracy: 1.0000\n",
      "Epoch 186/200\n",
      "3/3 [==============================] - 0s 38ms/step - loss: 0.0011 - accuracy: 1.0000 - val_loss: 0.0497 - val_accuracy: 1.0000\n",
      "Epoch 187/200\n",
      "3/3 [==============================] - 0s 32ms/step - loss: 9.9415e-04 - accuracy: 1.0000 - val_loss: 0.0472 - val_accuracy: 1.0000\n",
      "Epoch 188/200\n",
      "3/3 [==============================] - 0s 30ms/step - loss: 8.9260e-04 - accuracy: 1.0000 - val_loss: 0.0453 - val_accuracy: 1.0000\n",
      "Epoch 189/200\n",
      "3/3 [==============================] - 0s 31ms/step - loss: 8.4723e-04 - accuracy: 1.0000 - val_loss: 0.0449 - val_accuracy: 1.0000\n",
      "Epoch 190/200\n",
      "3/3 [==============================] - 0s 30ms/step - loss: 8.1659e-04 - accuracy: 1.0000 - val_loss: 0.0449 - val_accuracy: 1.0000\n",
      "Epoch 191/200\n",
      "3/3 [==============================] - 0s 30ms/step - loss: 8.0133e-04 - accuracy: 1.0000 - val_loss: 0.0439 - val_accuracy: 1.0000\n",
      "Epoch 192/200\n",
      "3/3 [==============================] - 0s 31ms/step - loss: 8.0813e-04 - accuracy: 1.0000 - val_loss: 0.0414 - val_accuracy: 1.0000\n",
      "Epoch 193/200\n",
      "3/3 [==============================] - 0s 44ms/step - loss: 8.4590e-04 - accuracy: 1.0000 - val_loss: 0.0405 - val_accuracy: 1.0000\n",
      "Epoch 194/200\n",
      "3/3 [==============================] - 0s 45ms/step - loss: 8.0965e-04 - accuracy: 1.0000 - val_loss: 0.0413 - val_accuracy: 1.0000\n",
      "Epoch 195/200\n",
      "3/3 [==============================] - 0s 70ms/step - loss: 7.8633e-04 - accuracy: 1.0000 - val_loss: 0.0425 - val_accuracy: 1.0000\n",
      "Epoch 196/200\n",
      "3/3 [==============================] - 0s 34ms/step - loss: 7.7109e-04 - accuracy: 1.0000 - val_loss: 0.0434 - val_accuracy: 1.0000\n",
      "Epoch 197/200\n",
      "3/3 [==============================] - 0s 30ms/step - loss: 7.6473e-04 - accuracy: 1.0000 - val_loss: 0.0439 - val_accuracy: 1.0000\n",
      "Epoch 198/200\n",
      "3/3 [==============================] - 0s 32ms/step - loss: 7.6810e-04 - accuracy: 1.0000 - val_loss: 0.0434 - val_accuracy: 1.0000\n",
      "Epoch 199/200\n",
      "3/3 [==============================] - 0s 31ms/step - loss: 7.6304e-04 - accuracy: 1.0000 - val_loss: 0.0414 - val_accuracy: 1.0000\n",
      "Epoch 200/200\n",
      "3/3 [==============================] - 0s 30ms/step - loss: 7.4978e-04 - accuracy: 1.0000 - val_loss: 0.0391 - val_accuracy: 1.0000\n"
     ]
    }
   ],
   "source": [
    "# history = model.fit(train_features, train_labels, epochs=200, verbose=1, validation_split=0.2)"
   ]
  },
  {
   "cell_type": "markdown",
   "metadata": {},
   "source": [
    "## Evaluate the model"
   ]
  },
  {
   "cell_type": "code",
   "execution_count": 37,
   "metadata": {},
   "outputs": [
    {
     "name": "stdout",
     "output_type": "stream",
     "text": [
      "1/1 [==============================] - 0s 72ms/step - loss: 0.0062 - accuracy: 1.0000\n"
     ]
    },
    {
     "data": {
      "text/plain": [
       "[0.006201563868671656, 1.0]"
      ]
     },
     "execution_count": 37,
     "metadata": {},
     "output_type": "execute_result"
    }
   ],
   "source": [
    "model.evaluate(test_features, test_label, verbose=1)"
   ]
  },
  {
   "cell_type": "code",
   "execution_count": 38,
   "metadata": {},
   "outputs": [
    {
     "data": {
      "text/html": [
       "<div>\n",
       "<style scoped>\n",
       "    .dataframe tbody tr th:only-of-type {\n",
       "        vertical-align: middle;\n",
       "    }\n",
       "\n",
       "    .dataframe tbody tr th {\n",
       "        vertical-align: top;\n",
       "    }\n",
       "\n",
       "    .dataframe thead th {\n",
       "        text-align: right;\n",
       "    }\n",
       "</style>\n",
       "<table border=\"1\" class=\"dataframe\">\n",
       "  <thead>\n",
       "    <tr style=\"text-align: right;\">\n",
       "      <th></th>\n",
       "      <th>Age</th>\n",
       "      <th>Gender</th>\n",
       "      <th>Height</th>\n",
       "      <th>Weight</th>\n",
       "      <th>BMI</th>\n",
       "      <th>Label</th>\n",
       "    </tr>\n",
       "  </thead>\n",
       "  <tbody>\n",
       "    <tr>\n",
       "      <th>0</th>\n",
       "      <td>25</td>\n",
       "      <td>1</td>\n",
       "      <td>175</td>\n",
       "      <td>80</td>\n",
       "      <td>25</td>\n",
       "      <td>0</td>\n",
       "    </tr>\n",
       "    <tr>\n",
       "      <th>1</th>\n",
       "      <td>30</td>\n",
       "      <td>0</td>\n",
       "      <td>160</td>\n",
       "      <td>60</td>\n",
       "      <td>22</td>\n",
       "      <td>0</td>\n",
       "    </tr>\n",
       "    <tr>\n",
       "      <th>2</th>\n",
       "      <td>35</td>\n",
       "      <td>1</td>\n",
       "      <td>180</td>\n",
       "      <td>90</td>\n",
       "      <td>27</td>\n",
       "      <td>2</td>\n",
       "    </tr>\n",
       "    <tr>\n",
       "      <th>3</th>\n",
       "      <td>40</td>\n",
       "      <td>0</td>\n",
       "      <td>150</td>\n",
       "      <td>50</td>\n",
       "      <td>20</td>\n",
       "      <td>1</td>\n",
       "    </tr>\n",
       "    <tr>\n",
       "      <th>4</th>\n",
       "      <td>45</td>\n",
       "      <td>1</td>\n",
       "      <td>190</td>\n",
       "      <td>100</td>\n",
       "      <td>31</td>\n",
       "      <td>3</td>\n",
       "    </tr>\n",
       "  </tbody>\n",
       "</table>\n",
       "</div>"
      ],
      "text/plain": [
       "   Age  Gender  Height  Weight  BMI  Label\n",
       "0   25       1     175      80   25      0\n",
       "1   30       0     160      60   22      0\n",
       "2   35       1     180      90   27      2\n",
       "3   40       0     150      50   20      1\n",
       "4   45       1     190     100   31      3"
      ]
     },
     "execution_count": 38,
     "metadata": {},
     "output_type": "execute_result"
    }
   ],
   "source": [
    "df.head()"
   ]
  },
  {
   "cell_type": "markdown",
   "metadata": {},
   "source": [
    "## Save/load the model"
   ]
  },
  {
   "cell_type": "code",
   "execution_count": 41,
   "metadata": {},
   "outputs": [
    {
     "name": "stdout",
     "output_type": "stream",
     "text": [
      "INFO:tensorflow:Assets written to: tf_model\\assets\n"
     ]
    }
   ],
   "source": [
    "model.save('tf_model')"
   ]
  },
  {
   "cell_type": "code",
   "execution_count": 42,
   "metadata": {},
   "outputs": [],
   "source": [
    "model = keras.models.load_model('tf_model')"
   ]
  },
  {
   "cell_type": "markdown",
   "metadata": {},
   "source": [
    "### NB: np.argmax is used to find the index of the highest probability for each input, which corresponds to the predicted class."
   ]
  },
  {
   "cell_type": "code",
   "execution_count": 48,
   "metadata": {},
   "outputs": [
    {
     "name": "stdout",
     "output_type": "stream",
     "text": [
      "1/1 [==============================] - 0s 71ms/step\n"
     ]
    },
    {
     "data": {
      "text/plain": [
       "'Overweight'"
      ]
     },
     "execution_count": 48,
     "metadata": {},
     "output_type": "execute_result"
    }
   ],
   "source": [
    "predictions = model.predict([[35, 1, 180, 90, 27]])\n",
    "predicted_index = np.argmax(predictions, axis=1)[0]\n",
    "class_labels = ['Normal Weight', 'Underweight', 'Overweight', 'Obese']\n",
    "predicted_class_label = class_labels[predicted_index]\n",
    "predicted_class_label"
   ]
  }
 ],
 "metadata": {
  "kernelspec": {
   "display_name": "tflow",
   "language": "python",
   "name": "python3"
  },
  "language_info": {
   "codemirror_mode": {
    "name": "ipython",
    "version": 3
   },
   "file_extension": ".py",
   "mimetype": "text/x-python",
   "name": "python",
   "nbconvert_exporter": "python",
   "pygments_lexer": "ipython3",
   "version": "3.9.18"
  }
 },
 "nbformat": 4,
 "nbformat_minor": 2
}
